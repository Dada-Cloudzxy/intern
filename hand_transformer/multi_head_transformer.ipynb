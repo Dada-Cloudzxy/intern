{
 "cells": [
  {
   "cell_type": "code",
   "execution_count": 1,
   "metadata": {},
   "outputs": [],
   "source": [
    "import torch\n",
    "import torch.nn as nn\n",
    "import torch.functional as F\n",
    "import numpy\n",
    "import math"
   ]
  },
  {
   "cell_type": "markdown",
   "metadata": {},
   "source": [
    "## Multi-Head-Attention"
   ]
  },
  {
   "cell_type": "code",
   "execution_count": 2,
   "metadata": {},
   "outputs": [
    {
     "name": "stdout",
     "output_type": "stream",
     "text": [
      "torch.Size([2, 32, 16])\n"
     ]
    }
   ],
   "source": [
    "x = torch.randn(2, 32, 16) # batch_size, seq_len, hidden_dim\n",
    "print(x.shape)"
   ]
  },
  {
   "cell_type": "code",
   "execution_count": 3,
   "metadata": {},
   "outputs": [],
   "source": [
    "d_model = 16\n",
    "n_head = 2\n",
    "batch_size, seq_len, _ = x.shape"
   ]
  },
  {
   "cell_type": "code",
   "execution_count": null,
   "metadata": {},
   "outputs": [],
   "source": [
    "class MultiHeadAttention(nn.Module):\n",
    "    def __init__(self, d_model, n_head) -> None:\n",
    "        super().__init__()\n",
    "\n",
    "        self.d_model = d_model\n",
    "        self.n_head = n_head\n",
    "        self.n_d = self.d_model // self.n_head\n",
    "\n",
    "        self.w_q = nn.Linear(d_model, d_model)\n",
    "        self.w_k = nn.Linear(d_model, d_model)\n",
    "        self.w_v = nn.Linear(d_model, d_model)\n",
    "        self.w_combine = nn.Linear(d_model, d_model)\n",
    "        self.softmax = nn.Softmax(dim=-1)\n",
    "    \n",
    "    def forward(self, q, k, v, mask=None):\n",
    "        batch_size, seq_len, d_model = q.shape\n",
    "        q, k, v = self.w_q(q), self.w_k(k), self.w_v(v)\n",
    "        q = q.view(batch_size, seq_len, self.n_head, self.n_d).permute(0, 2, 1, 3)\n",
    "        k = k.view(batch_size, seq_len, self.n_head, self.n_d).permute(0, 2, 1, 3)\n",
    "        v = v.view(batch_size, seq_len, self.n_head, self.n_d).permute(0, 2, 1, 3)\n",
    "\n",
    "        attn = torch.matmul(q, k.transpose(2, 3)) / math.sqrt(self.n_d)\n",
    "        if mask is not None:\n",
    "            # mask = torch.tril(torch.ones(seq_len, seq_len))\n",
    "            attn = attn.masked_fill(mask == 0, -1e9)\n",
    "        attn = torch.matmul(self.softmax(attn), v)\n",
    "\n",
    "        # view()需要tensor在内存中是连续的，切分和转置等操作会让内存不连续，contiguous()返回一个内存是连续的tensor\n",
    "        attn = attn.permute(0, 2, 1, 3).contiguous().view(batch_size, seq_len, d_model)\n",
    "        return self.w_combine(attn)"
   ]
  },
  {
   "cell_type": "code",
   "execution_count": 5,
   "metadata": {},
   "outputs": [
    {
     "name": "stdout",
     "output_type": "stream",
     "text": [
      "torch.Size([2, 32, 16])\n"
     ]
    }
   ],
   "source": [
    "transformer = MultiHeadAttention(d_model, n_head)\n",
    "output = transformer(x, x, x)\n",
    "print(output.shape)"
   ]
  },
  {
   "cell_type": "markdown",
   "metadata": {},
   "source": [
    "## Token and Position Embedding"
   ]
  },
  {
   "cell_type": "code",
   "execution_count": 6,
   "metadata": {},
   "outputs": [],
   "source": [
    "class TokenEmbedding(nn.Embedding):\n",
    "    def __init__(self, vocab_size, embedding_dim):\n",
    "        super().__init__(vocab_size, embedding_dim, padding_idx=1)"
   ]
  },
  {
   "cell_type": "code",
   "execution_count": 7,
   "metadata": {},
   "outputs": [],
   "source": [
    "class PositionEmbedding(nn.Module):\n",
    "    def __init__(self, max_len, d_model):\n",
    "        super().__init__()\n",
    "        self.encoding = torch.zeros(max_len, d_model)\n",
    "        self.encoding.requires_grad_(False)\n",
    "\n",
    "        # 这里pos需要再进行一次pos.unsqueeze(1)操作吗？需要要不然广播不了\n",
    "        pos = torch.arange(0, max_len).unsqueeze(1).float() \n",
    "        _2i = torch.arange(0, d_model, step=2).float()\n",
    "\n",
    "        self.encoding[:, 0::2] = torch.sin(pos / (10000 ** (_2i / d_model)))\n",
    "        self.encoding[:, 1::2] = torch.cos(pos / (10000 ** (_2i / d_model)))\n",
    "\n",
    "    def forward(self, x):\n",
    "        batch_size, seq_len, d_model = x.shape\n",
    "        return self.encoding[:seq_len, :]"
   ]
  },
  {
   "cell_type": "code",
   "execution_count": 8,
   "metadata": {},
   "outputs": [],
   "source": [
    "class TransformerEmbedding(nn.Module):  \n",
    "    def __init__(self, vocab_size, max_len, d_model, dropout):  \n",
    "        super(TransformerEmbedding, self).__init__()  \n",
    "        self.tok_emb = TokenEmbedding(vocab_size, d_model)  \n",
    "        self.pos_emb = PositionEmbedding(max_len, d_model)  \n",
    "        self.dropout = nn.Dropout(dropout)  \n",
    "\n",
    "    def forward(self, x):  \n",
    "        tok_emb = self.tok_emb(x)  \n",
    "        pos_emb = self.pos_emb(x)  \n",
    "        return self.dropout(tok_emb + pos_emb)"
   ]
  },
  {
   "cell_type": "code",
   "execution_count": 9,
   "metadata": {},
   "outputs": [
    {
     "name": "stdout",
     "output_type": "stream",
     "text": [
      "torch.Size([32, 16])\n",
      "torch.Size([2, 32, 16])\n"
     ]
    }
   ],
   "source": [
    "position_emb = PositionEmbedding(seq_len, d_model)\n",
    "emb = position_emb(x)\n",
    "print(emb.shape)\n",
    "# 当repeat参数等于emb维数，则是单纯扩增多少倍，大于emb维数，会先开辟一个第0维，然后扩增多少倍，相当于复制多少次\n",
    "emb = emb.repeat(batch_size, 1, 1)\n",
    "print(emb.shape)"
   ]
  },
  {
   "cell_type": "code",
   "execution_count": 10,
   "metadata": {},
   "outputs": [],
   "source": [
    "def compute_freqs(d_model, seq_len, theta=10000.0):\n",
    "    \"\"\"Compute cos and sin m * theta_i\"\"\"\n",
    "    theta_i = 1.0 / theta ** (torch.arange(0, d_model, 2)[:d_model // 2] / d_model)\n",
    "    m = torch.arange(0, seq_len)\n",
    "\n",
    "    freqs = torch.outer(m, theta_i)\n",
    "    freqs = torch.polar(torch.ones_like(freqs), freqs)\n",
    "    return freqs\n",
    "\n",
    "def apply_rotary_pos_emb(x, freqs):\n",
    "    \"\"\"Apply rotary position encoding to x.\"\"\"\n",
    "    batch_size, seq_len, d_model = x.shape\n",
    "    x_ = x.view(batch_size, seq_len, -1, 2)\n",
    "    x_ = torch.view_as_complex(x_)\n",
    "    x_ = x_ * freqs\n",
    "    return torch.view_as_real(x_).flatten(2)"
   ]
  },
  {
   "cell_type": "code",
   "execution_count": 11,
   "metadata": {},
   "outputs": [
    {
     "name": "stdout",
     "output_type": "stream",
     "text": [
      "torch.Size([2, 32, 16])\n",
      "torch.Size([32, 8])\n",
      "torch.Size([2, 32, 16])\n"
     ]
    }
   ],
   "source": [
    "print(x.shape)\n",
    "freqs = compute_freqs(d_model, seq_len)\n",
    "print(freqs.shape)\n",
    "x = apply_rotary_pos_emb(x, freqs)\n",
    "print(x.shape)"
   ]
  },
  {
   "cell_type": "markdown",
   "metadata": {},
   "source": [
    "## LayerNorm BatchNorm RMSNorm"
   ]
  },
  {
   "cell_type": "code",
   "execution_count": 12,
   "metadata": {},
   "outputs": [],
   "source": [
    "class LayerNorm(nn.Module):\n",
    "    def __init__(self, d_model, eps=1e-10):\n",
    "        super().__init__()\n",
    "        self.gamma = nn.Parameter(torch.ones(d_model))\n",
    "        self.beta = nn.Parameter(torch.zeros(d_model))\n",
    "        self.eps = eps\n",
    "\n",
    "    def forward(self, x):\n",
    "        mean = x.mean(-1, keepdim=True)\n",
    "        var = x.var(-1, unbiased=False, keepdim=True)\n",
    "        out = (x - mean) / (var + self.eps).sqrt()\n",
    "        # 最后一维相同，可以广播\n",
    "        out = self.gamma * out + self.beta\n",
    "        return out"
   ]
  },
  {
   "cell_type": "code",
   "execution_count": 13,
   "metadata": {},
   "outputs": [],
   "source": [
    "class BatchNorm(nn.Module):\n",
    "    \"\"\"just for cv task\"\"\"\n",
    "    def __init__(self, d_model, eps=1e-10, momentum=0.1):\n",
    "        super(BatchNorm, self).__init__()\n",
    "        self.gamma = nn.Parameter(torch.ones(d_model))\n",
    "        self.beta = nn.Parameter(torch.zeros(d_model))\n",
    "        self.eps = eps\n",
    "        self.momentum = momentum\n",
    "\n",
    "        self.running_mean = torch.zeros(d_model)\n",
    "        self.running_var = torch.ones(d_model)\n",
    "\n",
    "    def forward(self, x):\n",
    "        batch_size, d_model = x.shape\n",
    "        mean = x.mean(0)\n",
    "        var = x.var(0, unbiased=False)\n",
    "        self.running_mean = (1 - self.momentum) * self.running_mean + self.momentum * mean\n",
    "        self.running_var = (1 - self.momentum) * self.running_var + self.momentum * var\n",
    "        out = (x - self.running_mean) / (var + self.running_var).sqrt()\n",
    "        out = self.gamma * out + self.beta\n",
    "        return out\n",
    "        "
   ]
  },
  {
   "cell_type": "code",
   "execution_count": 14,
   "metadata": {},
   "outputs": [],
   "source": [
    "class RMSNorm(nn.Module):\n",
    "    def __init__(self, d_model, eps=1e-10):\n",
    "        super().__init__()\n",
    "        self.eps = eps\n",
    "        self.gamma = nn.Parameter(torch.ones(d_model))\n",
    "\n",
    "    def forward(self, x):\n",
    "        x_hat = x * torch.rsqrt(x.pow(2).mean(-1, keepdim=True) + self.eps)\n",
    "        return self.gamma * x_hat"
   ]
  },
  {
   "cell_type": "markdown",
   "metadata": {},
   "source": [
    "## FFN"
   ]
  },
  {
   "cell_type": "code",
   "execution_count": 15,
   "metadata": {},
   "outputs": [],
   "source": [
    "class PositionwiseFeedForward(nn.Module):\n",
    "    def __init__(self, d_model, hidden_size, dropout=0.1):\n",
    "        super(PositionwiseFeedForward, self).__init__()\n",
    "        self.fc1 = nn.Linear(d_model, hidden_size)\n",
    "        self.fc2 = nn.Linear(hidden_size, d_model)\n",
    "        self.dropout = nn.Dropout(dropout)\n",
    "        \"\"\"\n",
    "            如果有一个神经元的输出值为 x 并且你应用了 dropout 操作（设定概率 p），\n",
    "            那么在训练期间，这个值 x 有 p 的概率会被置为 0，而有 1-p 的概率会被乘以 1 / (1 - p)。\n",
    "            这样的设计是为了确保整体输出的期望值在训练时和测试时（dropout 被关闭）保持一致。\n",
    "        \"\"\"\n",
    "\n",
    "    def forward(self, x):\n",
    "        x = self.fc1(x)\n",
    "        x = F.relu(x)\n",
    "        # dropout 在 fc1 之后，dropout 在 fc2 之前\n",
    "        x = self.dropout(x)\n",
    "        x = self.fc2(x)\n",
    "        \n",
    "        return x"
   ]
  },
  {
   "cell_type": "code",
   "execution_count": 16,
   "metadata": {},
   "outputs": [],
   "source": [
    "class LlamaFeedForward(nn.Module):\n",
    "    def __init__(self, d_model, hidden_size):\n",
    "        \"\"\"hidden_size是256的倍数中与8/3*4096最接近的,因为经过加法和rmsnorm会有8/3≈2.7的放缩，d_model为4096，hidden_size则为11008\"\"\"\n",
    "        super().__init__()\n",
    "        self.fc1 = nn.Linear(d_model, hidden_size)\n",
    "        self.fc2 = nn.Linear(hidden_size, d_model)\n",
    "\n",
    "    def forward(self, x):\n",
    "        x = self.fc1(x)\n",
    "        x = F.silu(x)\n",
    "        x = self.fc2(x)\n",
    "\n",
    "        return x"
   ]
  },
  {
   "cell_type": "markdown",
   "metadata": {},
   "source": [
    "## Encoder"
   ]
  },
  {
   "cell_type": "code",
   "execution_count": null,
   "metadata": {},
   "outputs": [],
   "source": [
    "class EncoderLayer(nn.Module):\n",
    "    def __init__(self, d_model, n_head, hidden_size, dropout=0.1):\n",
    "        super(EncoderLayer, self).__init__()\n",
    "        self.mha = MultiHeadAttention(d_model, n_head)\n",
    "        self.drop1 = nn.Dropout(dropout)\n",
    "        self.norm1 = nn.LayerNorm(d_model)\n",
    "\n",
    "        self.ffn = PositionwiseFeedForward(d_model, hidden_size, dropout)\n",
    "        self.drop2 = nn.Dropout(dropout)\n",
    "        self.norm2 = nn.LayerNorm(d_model)\n",
    "        \n",
    "\n",
    "    def forward(self, x):\n",
    "        _x = x\n",
    "        x = self.mha(x, x, x)\n",
    "        x = self.drop1(x)\n",
    "        x = self.norm1(x + _x)\n",
    "\n",
    "        _x = x\n",
    "        x = self.ffn(x)\n",
    "        x = self.drop2(x)\n",
    "        x = self.norm2(x + _x)\n",
    "\n",
    "        return x\n",
    "    "
   ]
  },
  {
   "cell_type": "code",
   "execution_count": null,
   "metadata": {},
   "outputs": [],
   "source": [
    "class Encoder(nn.Module):\n",
    "    def __init__(self, vocab_size, max_len, d_model, n_head, hidden_size, n_layer, dropout=0.1):\n",
    "        super(Encoder, self).__init__()\n",
    "        self.embedding = TransformerEmbedding(vocab_size, max_len, d_model, dropout)\n",
    "        self.layers = nn.ModuleList([EncoderLayer(d_model, n_head, hidden_size, dropout) for _ in range(n_layer)])\n",
    "\n",
    "    def forward(self, x, s_mask):\n",
    "        x = self.embedding(x)\n",
    "        for layer in self.layers:\n",
    "            x = layer(x, s_mask)\n",
    "        return x"
   ]
  },
  {
   "cell_type": "markdown",
   "metadata": {},
   "source": [
    "## Decoder"
   ]
  },
  {
   "cell_type": "code",
   "execution_count": null,
   "metadata": {},
   "outputs": [],
   "source": [
    "class DncoderLayer(nn.Module):\n",
    "    def __init__(self, d_model, n_head, hidden_size, dropout=0.1):\n",
    "        super(EncoderLayer, self).__init__()\n",
    "        self.mha1 = MultiHeadAttention(d_model, n_head)\n",
    "        self.drop1 = nn.Dropout(dropout)\n",
    "        self.norm1 = nn.LayerNorm(d_model)\n",
    "\n",
    "        self.mha2 = MultiHeadAttention(d_model, n_head)\n",
    "        self.drop2 = nn.Dropout(dropout)\n",
    "        self.norm2 = nn.LayerNorm(d_model)\n",
    "\n",
    "        self.ffn = PositionwiseFeedForward(d_model, hidden_size, dropout)\n",
    "        self.drop3 = nn.Dropout(dropout)\n",
    "        self.norm3 = nn.LayerNorm(d_model)\n",
    "        \n",
    "\n",
    "    def forward(self, dec, enc, t_mask, s_mask):\n",
    "        _x = dec\n",
    "        x = self.mha1(dec, dec, dec, t_mask) # 下三角掩码\n",
    "        x = self.drop1(x)\n",
    "        x = self.norm1(x + _x)\n",
    "\n",
    "        if enc is not None:\n",
    "            _x = x\n",
    "            x = self.mha2(x, enc, enc, t_mask, s_mask) # padding mask\n",
    "            x = self.drop2(x)\n",
    "            x = self.norm2(x + _x)\n",
    "\n",
    "        _x = x\n",
    "        x = self.ffn(x)\n",
    "        x = self.drop3(x)\n",
    "        x = self.norm3(x + _x)\n",
    "\n",
    "        return x\n",
    "    "
   ]
  },
  {
   "cell_type": "code",
   "execution_count": null,
   "metadata": {},
   "outputs": [],
   "source": [
    "class Dncoder(nn.Module):\n",
    "    def __init__(self, vocab_size, max_len, d_model, n_head, hidden_size, n_layer, dropout=0.1):\n",
    "        super(Encoder, self).__init__()\n",
    "        self.embedding = TransformerEmbedding(vocab_size, max_len, d_model, dropout)\n",
    "        self.layers = nn.ModuleList([EncoderLayer(d_model, n_head, hidden_size, dropout) for _ in range(n_layer)])\n",
    "        self.fc = nn.Linear(d_model, vocab_size)\n",
    "\n",
    "    def forward(self, dec, enc, t_mask, s_mask):\n",
    "        dec = self.embedding(dec)\n",
    "        for layer in self.layers:\n",
    "            dec = layer(dec, enc, t_mask, s_mask)\n",
    "        return self.fc(dec)"
   ]
  },
  {
   "cell_type": "markdown",
   "metadata": {},
   "source": [
    "## Transformer"
   ]
  },
  {
   "cell_type": "code",
   "execution_count": null,
   "metadata": {},
   "outputs": [],
   "source": []
  }
 ],
 "metadata": {
  "kernelspec": {
   "display_name": "aligner",
   "language": "python",
   "name": "python3"
  },
  "language_info": {
   "codemirror_mode": {
    "name": "ipython",
    "version": 3
   },
   "file_extension": ".py",
   "mimetype": "text/x-python",
   "name": "python",
   "nbconvert_exporter": "python",
   "pygments_lexer": "ipython3",
   "version": "3.8.18"
  }
 },
 "nbformat": 4,
 "nbformat_minor": 2
}
